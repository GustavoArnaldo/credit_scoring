{
 "cells": [
  {
   "cell_type": "markdown",
   "id": "a6cf6a57",
   "metadata": {
    "slideshow": {
     "slide_type": "-"
    }
   },
   "source": [
    "# **SPRINT 2 CREDIT SCORING**"
   ]
  },
  {
   "cell_type": "markdown",
   "id": "59740e2e",
   "metadata": {},
   "source": [
    "# Contents <a id='back'></a>\n",
    "\n",
    "* 1.-[Introducción](#intro)\n",
    "\n",
    "* 2.-[Objetivo](#obj)\n",
    "\n",
    "* 3.-[Descripcion de Datos](#data_description)\n",
    "\n",
    "* 4.-[Exploracion de Datos](#explo)\n",
    "    * 4.1.-[Creacion DataFrame](#DataFrame_Creation)\n",
    "    * 4.2.-[Pre-Procesamiento Datos](#Pre-Data_proceesing)\n",
    "\n",
    "* 5.-[Analisis Comparativo](#Comparative_analysis)\n",
    "    * 5.1.-[Hijos vs Reembolso de Prestamos a Tiempo](#children_vs_debt)\n",
    "    * 5.2.-[Estado Civil vs Reembolso de Prestamos a Tiempo](#family_status_vs_debt)\n",
    "    * 5.3.-[Nivel de Ingreso vs Reembolso de Prestamos a Tiempo](#income_vs_debt)\n",
    "    * 5.4.-[Proposito vs Reembolso de Prestamos a Tiempo](#purpose_vs_debt)\n",
    "\n",
    "* 6.-[Preguntas](#questions)\n",
    "* 7.-[Resumen](#resumen)\n",
    "* 8.-[Conclusion](#end)"
   ]
  },
  {
   "cell_type": "markdown",
   "id": "cd2b780c",
   "metadata": {},
   "source": [
    "# **1. INTRODUCCION** <a id='intro'></a>\n",
    "\n",
    "Este proyecto consiste en preparar un informe para la división de préstamos de un banco. Es necesario averiguar si el estado civil y el número de hijos de un cliente tienen un impacto en el incumplimiento de pago de un préstamo. El banco ya tiene algunos datos sobre la solvencia crediticia de los clientes.\n",
    "\n",
    "El informe analizará, al crear una **puntuación de crédito** para un cliente potencial. Esta puntuación de crédito para evaluar la capacidad de un prestatario potencial para pagar su préstamo."
   ]
  },
  {
   "cell_type": "markdown",
   "id": "4fc47b2b",
   "metadata": {},
   "source": [
    "# **2. OBJETIVO** <a id='obj'></a>\n",
    "- Determinar si existe conexión entre tener hijos y reembolsar un préstamo a tiempo\n",
    "- Determinar si existe conexión entre el estado civil y el reembolso de un préstamo a tiempo\n",
    "- Determinar si existe conexión entre el nivel de ingresos y el reembolso de un préstamo a tiempo\n",
    "- Determinar cómo afectan los diferentes propósitos de un préstamo a su reembolso a tiempo"
   ]
  },
  {
   "cell_type": "markdown",
   "id": "67a95dd5",
   "metadata": {},
   "source": [
    "# **3. DESCRIPCION DE DATOS** <a id='data_description'></a>\n",
    "A continuacion se procede a explicar que cotiene cada columna del DataFrame que vamos a analizar:\n",
    "\n",
    "* ***children:*** el número de hijos en la familia\n",
    "* ***days_employed:*** cuánto hace que trabaja el cliente\n",
    "* ***dob_years:*** la edad del cliente\n",
    "* ***education:*** el nivel educativo del cliente\n",
    "* ***education_id:*** el identificador de la formación del cliente\n",
    "* ***family_status:*** el estado civil del cliente\n",
    "* ***family_status_id:*** el identificador del estado civil del cliente\n",
    "* ***gender:*** el género del cliente\n",
    "* ***income_type:*** el tipo de ingreso del cliente\n",
    "* ***debt:*** si el cliente ha incumplido alguna vez un préstamo\n",
    "* ***total_income:*** el ingreso mensual\n",
    "* ***purpose:*** el motivo por el que se solicita un préstamo"
   ]
  },
  {
   "cell_type": "markdown",
   "id": "8ae58b53",
   "metadata": {},
   "source": [
    "# **4. EXPLORACION DE DATOS** <a id='explo'></a>"
   ]
  },
  {
   "cell_type": "markdown",
   "id": "69f9658d",
   "metadata": {},
   "source": [
    "## **4.1 CREACION DE DATAFRAME** <a id='DataFrame_Creation'></a>"
   ]
  },
  {
   "cell_type": "code",
   "execution_count": 12,
   "id": "db3ae84b",
   "metadata": {},
   "outputs": [],
   "source": [
    "import pandas as pd #aqui se carga las librerias"
   ]
  },
  {
   "cell_type": "markdown",
   "id": "18bfebfc",
   "metadata": {},
   "source": [
    "A continuacion se procede a la creacion del DataFrame"
   ]
  },
  {
   "cell_type": "code",
   "execution_count": 13,
   "id": "7dbfae36",
   "metadata": {},
   "outputs": [],
   "source": [
    "try:\n",
    "    df=pd.read_csv(\"credit_scoring_eng.csv\") # Aqui se carga los datos localmente\n",
    "except:\n",
    "    df=pd.read_csv(\"https://practicum-content.s3.us-west-1.amazonaws.com/datasets/credit_scoring_eng.csv\") # Aqui se carga los datos en linea"
   ]
  },
  {
   "cell_type": "markdown",
   "id": "7bed85bb",
   "metadata": {},
   "source": [
    "## **4.2 PRE-PROCESAMIENTO DE DATOS** <a id='Pre-Data_proceesing'></a>"
   ]
  },
  {
   "cell_type": "code",
   "execution_count": 14,
   "id": "0c63f51e",
   "metadata": {},
   "outputs": [
    {
     "name": "stdout",
     "output_type": "stream",
     "text": [
      "<class 'pandas.core.frame.DataFrame'>\n",
      "RangeIndex: 21525 entries, 0 to 21524\n",
      "Data columns (total 12 columns):\n",
      " #   Column            Non-Null Count  Dtype  \n",
      "---  ------            --------------  -----  \n",
      " 0   children          21525 non-null  int64  \n",
      " 1   days_employed     19351 non-null  float64\n",
      " 2   dob_years         21525 non-null  int64  \n",
      " 3   education         21525 non-null  object \n",
      " 4   education_id      21525 non-null  int64  \n",
      " 5   family_status     21525 non-null  object \n",
      " 6   family_status_id  21525 non-null  int64  \n",
      " 7   gender            21525 non-null  object \n",
      " 8   income_type       21525 non-null  object \n",
      " 9   debt              21525 non-null  int64  \n",
      " 10  total_income      19351 non-null  float64\n",
      " 11  purpose           21525 non-null  object \n",
      "dtypes: float64(2), int64(5), object(5)\n",
      "memory usage: 2.0+ MB\n"
     ]
    }
   ],
   "source": [
    "df.info() # Con este comando voy a visualizar la informacion del DataFrame"
   ]
  },
  {
   "cell_type": "markdown",
   "id": "07758221",
   "metadata": {},
   "source": [
    "Del analisis que se muestra arriba los valores ausentes son **cuantitativos**, estos es en las columnas:\n",
    "- days_employed\n",
    "- total_income\n",
    "\n",
    "Ademas la columna \"days_employed\" contiene valores negativos.\n",
    "\n",
    "A continuacion se va a proceder a cuantificar estos valores duplicados."
   ]
  },
  {
   "cell_type": "code",
   "execution_count": 15,
   "id": "e5c56d63",
   "metadata": {
    "scrolled": true
   },
   "outputs": [
    {
     "name": "stdout",
     "output_type": "stream",
     "text": [
      "Valores duplicados: 54\n"
     ]
    }
   ],
   "source": [
    "print('Valores duplicados:',df.duplicated().sum()) #Con esto se determina la cantidad de valores duplicados"
   ]
  },
  {
   "cell_type": "code",
   "execution_count": 16,
   "id": "cdb426ce",
   "metadata": {},
   "outputs": [
    {
     "name": "stdout",
     "output_type": "stream",
     "text": [
      "La columna children tiene esta cantidad valores negativos:47\n"
     ]
    }
   ],
   "source": [
    "print(f\"La columna children tiene esta cantidad valores negativos:{df.loc[df['children']<0,'children'].count()}\")"
   ]
  },
  {
   "cell_type": "code",
   "execution_count": 17,
   "id": "b9e0ed8b",
   "metadata": {
    "scrolled": true
   },
   "outputs": [
    {
     "name": "stdout",
     "output_type": "stream",
     "text": [
      "['purchase of the house' 'car purchase' 'supplementary education'\n",
      " 'to have a wedding' 'housing transactions' 'education' 'having a wedding'\n",
      " 'purchase of the house for my family' 'buy real estate'\n",
      " 'buy commercial real estate' 'buy residential real estate'\n",
      " 'construction of own property' 'property' 'building a property'\n",
      " 'buying a second-hand car' 'buying my own car'\n",
      " 'transactions with commercial real estate' 'building a real estate'\n",
      " 'housing' 'transactions with my real estate' 'cars' 'to become educated'\n",
      " 'second-hand car purchase' 'getting an education' 'car'\n",
      " 'wedding ceremony' 'to get a supplementary education'\n",
      " 'purchase of my own house' 'real estate transactions'\n",
      " 'getting higher education' 'to own a car' 'purchase of a car'\n",
      " 'profile education' 'university education'\n",
      " 'buying property for renting out' 'to buy a car' 'housing renovation'\n",
      " 'going to university']\n"
     ]
    }
   ],
   "source": [
    "print(df['purpose'].unique()) # Esto nos va a motrar los valores de la columna 'purpose'"
   ]
  },
  {
   "cell_type": "code",
   "execution_count": 18,
   "id": "1f2b4a5f",
   "metadata": {},
   "outputs": [
    {
     "name": "stdout",
     "output_type": "stream",
     "text": [
      "[\"bachelor's degree\" 'secondary education' 'Secondary Education'\n",
      " 'SECONDARY EDUCATION' \"BACHELOR'S DEGREE\" 'some college'\n",
      " 'primary education' \"Bachelor's Degree\" 'SOME COLLEGE' 'Some College'\n",
      " 'PRIMARY EDUCATION' 'Primary Education' 'Graduate Degree'\n",
      " 'GRADUATE DEGREE' 'graduate degree']\n"
     ]
    }
   ],
   "source": [
    "print(df['education'].unique()) # Esto nos va a motrar los valores de la columna 'education'"
   ]
  },
  {
   "cell_type": "markdown",
   "id": "b8f14068",
   "metadata": {},
   "source": [
    "Obviamente valores negativos en la columna 'children' es un error de digitacion, razon por la cual voy a proceder a dejar el valor absoluto de la celda"
   ]
  },
  {
   "cell_type": "code",
   "execution_count": 19,
   "id": "aea31398",
   "metadata": {},
   "outputs": [
    {
     "name": "stdout",
     "output_type": "stream",
     "text": [
      "La columna children tiene esta cantidad valores negativos:0\n"
     ]
    }
   ],
   "source": [
    "for i in range(len(df['children'])):\n",
    "               if df.loc[i,'children']<0:\n",
    "                   df.loc[i,'children']=-df.loc[i,'children']\n",
    "print(f\"La columna children tiene esta cantidad valores negativos:{df.loc[df['children']<0,'children'].count()}\")"
   ]
  },
  {
   "cell_type": "code",
   "execution_count": 20,
   "id": "168d01f5",
   "metadata": {
    "scrolled": false
   },
   "outputs": [
    {
     "data": {
      "text/plain": [
       "children             0\n",
       "days_employed       54\n",
       "dob_years            0\n",
       "education            0\n",
       "education_id         0\n",
       "family_status        0\n",
       "family_status_id     0\n",
       "gender               0\n",
       "income_type          0\n",
       "debt                 0\n",
       "total_income        54\n",
       "purpose              0\n",
       "dtype: int64"
      ]
     },
     "execution_count": 20,
     "metadata": {},
     "output_type": "execute_result"
    }
   ],
   "source": [
    "df_duplicated=df[df.duplicated()]\n",
    "df_duplicated.isna().sum()"
   ]
  },
  {
   "cell_type": "markdown",
   "id": "e6af23b6",
   "metadata": {},
   "source": [
    "Aqui se determino que todas los valores duplicados tienen valores ausentes 'days_employed' y 'total_income'. Al no haber identificador del prospecto solo puedo suponer que la misma persona intento aplicar al prestamo mas de una vez, omitiendo 'days_employed' y 'total_income' esperando aun asi lograr el prestamo. Por tanto procedere a borrar estas filas."
   ]
  },
  {
   "cell_type": "code",
   "execution_count": 21,
   "id": "abb0bc55",
   "metadata": {},
   "outputs": [
    {
     "name": "stdout",
     "output_type": "stream",
     "text": [
      "Cantidad Valores ausentes tanto en 'total_income' como 'days_employed': 2174\n"
     ]
    },
    {
     "data": {
      "text/html": [
       "<div>\n",
       "<style scoped>\n",
       "    .dataframe tbody tr th:only-of-type {\n",
       "        vertical-align: middle;\n",
       "    }\n",
       "\n",
       "    .dataframe tbody tr th {\n",
       "        vertical-align: top;\n",
       "    }\n",
       "\n",
       "    .dataframe thead th {\n",
       "        text-align: right;\n",
       "    }\n",
       "</style>\n",
       "<table border=\"1\" class=\"dataframe\">\n",
       "  <thead>\n",
       "    <tr style=\"text-align: right;\">\n",
       "      <th></th>\n",
       "      <th>children</th>\n",
       "      <th>days_employed</th>\n",
       "      <th>dob_years</th>\n",
       "      <th>education</th>\n",
       "      <th>education_id</th>\n",
       "      <th>family_status</th>\n",
       "      <th>family_status_id</th>\n",
       "      <th>gender</th>\n",
       "      <th>income_type</th>\n",
       "      <th>debt</th>\n",
       "      <th>total_income</th>\n",
       "      <th>purpose</th>\n",
       "    </tr>\n",
       "  </thead>\n",
       "  <tbody>\n",
       "    <tr>\n",
       "      <th>12</th>\n",
       "      <td>0</td>\n",
       "      <td>NaN</td>\n",
       "      <td>65</td>\n",
       "      <td>secondary education</td>\n",
       "      <td>1</td>\n",
       "      <td>civil partnership</td>\n",
       "      <td>1</td>\n",
       "      <td>M</td>\n",
       "      <td>retiree</td>\n",
       "      <td>0</td>\n",
       "      <td>NaN</td>\n",
       "      <td>to have a wedding</td>\n",
       "    </tr>\n",
       "    <tr>\n",
       "      <th>26</th>\n",
       "      <td>0</td>\n",
       "      <td>NaN</td>\n",
       "      <td>41</td>\n",
       "      <td>secondary education</td>\n",
       "      <td>1</td>\n",
       "      <td>married</td>\n",
       "      <td>0</td>\n",
       "      <td>M</td>\n",
       "      <td>civil servant</td>\n",
       "      <td>0</td>\n",
       "      <td>NaN</td>\n",
       "      <td>education</td>\n",
       "    </tr>\n",
       "    <tr>\n",
       "      <th>29</th>\n",
       "      <td>0</td>\n",
       "      <td>NaN</td>\n",
       "      <td>63</td>\n",
       "      <td>secondary education</td>\n",
       "      <td>1</td>\n",
       "      <td>unmarried</td>\n",
       "      <td>4</td>\n",
       "      <td>F</td>\n",
       "      <td>retiree</td>\n",
       "      <td>0</td>\n",
       "      <td>NaN</td>\n",
       "      <td>building a real estate</td>\n",
       "    </tr>\n",
       "    <tr>\n",
       "      <th>41</th>\n",
       "      <td>0</td>\n",
       "      <td>NaN</td>\n",
       "      <td>50</td>\n",
       "      <td>secondary education</td>\n",
       "      <td>1</td>\n",
       "      <td>married</td>\n",
       "      <td>0</td>\n",
       "      <td>F</td>\n",
       "      <td>civil servant</td>\n",
       "      <td>0</td>\n",
       "      <td>NaN</td>\n",
       "      <td>second-hand car purchase</td>\n",
       "    </tr>\n",
       "    <tr>\n",
       "      <th>55</th>\n",
       "      <td>0</td>\n",
       "      <td>NaN</td>\n",
       "      <td>54</td>\n",
       "      <td>secondary education</td>\n",
       "      <td>1</td>\n",
       "      <td>civil partnership</td>\n",
       "      <td>1</td>\n",
       "      <td>F</td>\n",
       "      <td>retiree</td>\n",
       "      <td>1</td>\n",
       "      <td>NaN</td>\n",
       "      <td>to have a wedding</td>\n",
       "    </tr>\n",
       "    <tr>\n",
       "      <th>...</th>\n",
       "      <td>...</td>\n",
       "      <td>...</td>\n",
       "      <td>...</td>\n",
       "      <td>...</td>\n",
       "      <td>...</td>\n",
       "      <td>...</td>\n",
       "      <td>...</td>\n",
       "      <td>...</td>\n",
       "      <td>...</td>\n",
       "      <td>...</td>\n",
       "      <td>...</td>\n",
       "      <td>...</td>\n",
       "    </tr>\n",
       "    <tr>\n",
       "      <th>21489</th>\n",
       "      <td>2</td>\n",
       "      <td>NaN</td>\n",
       "      <td>47</td>\n",
       "      <td>Secondary Education</td>\n",
       "      <td>1</td>\n",
       "      <td>married</td>\n",
       "      <td>0</td>\n",
       "      <td>M</td>\n",
       "      <td>business</td>\n",
       "      <td>0</td>\n",
       "      <td>NaN</td>\n",
       "      <td>purchase of a car</td>\n",
       "    </tr>\n",
       "    <tr>\n",
       "      <th>21495</th>\n",
       "      <td>1</td>\n",
       "      <td>NaN</td>\n",
       "      <td>50</td>\n",
       "      <td>secondary education</td>\n",
       "      <td>1</td>\n",
       "      <td>civil partnership</td>\n",
       "      <td>1</td>\n",
       "      <td>F</td>\n",
       "      <td>employee</td>\n",
       "      <td>0</td>\n",
       "      <td>NaN</td>\n",
       "      <td>wedding ceremony</td>\n",
       "    </tr>\n",
       "    <tr>\n",
       "      <th>21497</th>\n",
       "      <td>0</td>\n",
       "      <td>NaN</td>\n",
       "      <td>48</td>\n",
       "      <td>BACHELOR'S DEGREE</td>\n",
       "      <td>0</td>\n",
       "      <td>married</td>\n",
       "      <td>0</td>\n",
       "      <td>F</td>\n",
       "      <td>business</td>\n",
       "      <td>0</td>\n",
       "      <td>NaN</td>\n",
       "      <td>building a property</td>\n",
       "    </tr>\n",
       "    <tr>\n",
       "      <th>21502</th>\n",
       "      <td>1</td>\n",
       "      <td>NaN</td>\n",
       "      <td>42</td>\n",
       "      <td>secondary education</td>\n",
       "      <td>1</td>\n",
       "      <td>married</td>\n",
       "      <td>0</td>\n",
       "      <td>F</td>\n",
       "      <td>employee</td>\n",
       "      <td>0</td>\n",
       "      <td>NaN</td>\n",
       "      <td>building a real estate</td>\n",
       "    </tr>\n",
       "    <tr>\n",
       "      <th>21510</th>\n",
       "      <td>2</td>\n",
       "      <td>NaN</td>\n",
       "      <td>28</td>\n",
       "      <td>secondary education</td>\n",
       "      <td>1</td>\n",
       "      <td>married</td>\n",
       "      <td>0</td>\n",
       "      <td>F</td>\n",
       "      <td>employee</td>\n",
       "      <td>0</td>\n",
       "      <td>NaN</td>\n",
       "      <td>car purchase</td>\n",
       "    </tr>\n",
       "  </tbody>\n",
       "</table>\n",
       "<p>2174 rows × 12 columns</p>\n",
       "</div>"
      ],
      "text/plain": [
       "       children  days_employed  dob_years            education  education_id  \\\n",
       "12            0            NaN         65  secondary education             1   \n",
       "26            0            NaN         41  secondary education             1   \n",
       "29            0            NaN         63  secondary education             1   \n",
       "41            0            NaN         50  secondary education             1   \n",
       "55            0            NaN         54  secondary education             1   \n",
       "...         ...            ...        ...                  ...           ...   \n",
       "21489         2            NaN         47  Secondary Education             1   \n",
       "21495         1            NaN         50  secondary education             1   \n",
       "21497         0            NaN         48    BACHELOR'S DEGREE             0   \n",
       "21502         1            NaN         42  secondary education             1   \n",
       "21510         2            NaN         28  secondary education             1   \n",
       "\n",
       "           family_status  family_status_id gender    income_type  debt  \\\n",
       "12     civil partnership                 1      M        retiree     0   \n",
       "26               married                 0      M  civil servant     0   \n",
       "29             unmarried                 4      F        retiree     0   \n",
       "41               married                 0      F  civil servant     0   \n",
       "55     civil partnership                 1      F        retiree     1   \n",
       "...                  ...               ...    ...            ...   ...   \n",
       "21489            married                 0      M       business     0   \n",
       "21495  civil partnership                 1      F       employee     0   \n",
       "21497            married                 0      F       business     0   \n",
       "21502            married                 0      F       employee     0   \n",
       "21510            married                 0      F       employee     0   \n",
       "\n",
       "       total_income                   purpose  \n",
       "12              NaN         to have a wedding  \n",
       "26              NaN                 education  \n",
       "29              NaN    building a real estate  \n",
       "41              NaN  second-hand car purchase  \n",
       "55              NaN         to have a wedding  \n",
       "...             ...                       ...  \n",
       "21489           NaN         purchase of a car  \n",
       "21495           NaN          wedding ceremony  \n",
       "21497           NaN       building a property  \n",
       "21502           NaN    building a real estate  \n",
       "21510           NaN              car purchase  \n",
       "\n",
       "[2174 rows x 12 columns]"
      ]
     },
     "metadata": {},
     "output_type": "display_data"
    }
   ],
   "source": [
    "df1=df[df['days_employed'].isna()]\n",
    "print('Cantidad Valores ausentes tanto en \\'total_income\\' como \\'days_employed\\':',df1['total_income'].isna().sum())\n",
    "display(df1)"
   ]
  },
  {
   "cell_type": "markdown",
   "id": "cd4c0999",
   "metadata": {},
   "source": [
    "Ademas se encontro que todas las filas que contienen valores ausentes en las columnas 'days_employed' tambien los tienen en 'total_income'. Por tanto se va a borrar todas estas filas, pero primero se va a proceder a crear una lista con valores ausentes en la columna 'total_income' rellenados"
   ]
  },
  {
   "cell_type": "code",
   "execution_count": 22,
   "id": "f521efff",
   "metadata": {},
   "outputs": [
    {
     "name": "stdout",
     "output_type": "stream",
     "text": [
      "Cantidad de valores ausentes: 2120\n",
      "La cantidad de valores atipicos inferiores a primer quartil son: 0\n",
      "La cantidad de valores atipicos superiores a tercer quartil son: 818\n",
      "Cantidad de valores ausentes: 0\n",
      "<class 'pandas.core.frame.DataFrame'>\n",
      "RangeIndex: 21471 entries, 0 to 21470\n",
      "Data columns (total 12 columns):\n",
      " #   Column            Non-Null Count  Dtype  \n",
      "---  ------            --------------  -----  \n",
      " 0   children          21471 non-null  int64  \n",
      " 1   days_employed     19351 non-null  float64\n",
      " 2   dob_years         21471 non-null  int64  \n",
      " 3   education         21471 non-null  object \n",
      " 4   education_id      21471 non-null  int64  \n",
      " 5   family_status     21471 non-null  object \n",
      " 6   family_status_id  21471 non-null  int64  \n",
      " 7   gender            21471 non-null  object \n",
      " 8   income_type       21471 non-null  object \n",
      " 9   debt              21471 non-null  int64  \n",
      " 10  total_income      21471 non-null  float64\n",
      " 11  purpose           21471 non-null  object \n",
      "dtypes: float64(2), int64(5), object(5)\n",
      "memory usage: 2.0+ MB\n"
     ]
    }
   ],
   "source": [
    "df_filled=df.drop_duplicates().reset_index(drop=True)\n",
    "print(f\"Cantidad de valores ausentes: {df_filled['total_income'].isna().sum()}\")\n",
    "u=df_filled['total_income'].quantile(0.75)\n",
    "l=df_filled['total_income'].quantile(0.25)\n",
    "r=1.5*(u-l)\n",
    "vu=u+r\n",
    "vl=l-r\n",
    "df_atipic=df_filled[df_filled['total_income']>vu]\n",
    "df_atipic=df_filled[df_filled['total_income']<vl]\n",
    "print(f\"La cantidad de valores atipicos inferiores a primer quartil son: {df_atipic['gender'].count()}\")\n",
    "df_atipic=df_filled[df_filled['total_income']>vu]\n",
    "print(f\"La cantidad de valores atipicos superiores a tercer quartil son: {df_atipic['gender'].count()}\")\n",
    "median=df_filled['total_income'].median()\n",
    "df_filled['total_income']=df_filled['total_income'].fillna(median)\n",
    "print(f\"Cantidad de valores ausentes: {df_filled['total_income'].isna().sum()}\")\n",
    "df_filled.info()"
   ]
  },
  {
   "cell_type": "code",
   "execution_count": 23,
   "id": "6a001d2b",
   "metadata": {},
   "outputs": [
    {
     "name": "stdout",
     "output_type": "stream",
     "text": [
      "<class 'pandas.core.frame.DataFrame'>\n",
      "Int64Index: 19351 entries, 0 to 21524\n",
      "Data columns (total 12 columns):\n",
      " #   Column            Non-Null Count  Dtype  \n",
      "---  ------            --------------  -----  \n",
      " 0   children          19351 non-null  int64  \n",
      " 1   days_employed     19351 non-null  float64\n",
      " 2   dob_years         19351 non-null  int64  \n",
      " 3   education         19351 non-null  object \n",
      " 4   education_id      19351 non-null  int64  \n",
      " 5   family_status     19351 non-null  object \n",
      " 6   family_status_id  19351 non-null  int64  \n",
      " 7   gender            19351 non-null  object \n",
      " 8   income_type       19351 non-null  object \n",
      " 9   debt              19351 non-null  int64  \n",
      " 10  total_income      19351 non-null  float64\n",
      " 11  purpose           19351 non-null  object \n",
      "dtypes: float64(2), int64(5), object(5)\n",
      "memory usage: 1.9+ MB\n"
     ]
    },
    {
     "data": {
      "text/html": [
       "<div>\n",
       "<style scoped>\n",
       "    .dataframe tbody tr th:only-of-type {\n",
       "        vertical-align: middle;\n",
       "    }\n",
       "\n",
       "    .dataframe tbody tr th {\n",
       "        vertical-align: top;\n",
       "    }\n",
       "\n",
       "    .dataframe thead th {\n",
       "        text-align: right;\n",
       "    }\n",
       "</style>\n",
       "<table border=\"1\" class=\"dataframe\">\n",
       "  <thead>\n",
       "    <tr style=\"text-align: right;\">\n",
       "      <th></th>\n",
       "      <th>children</th>\n",
       "      <th>days_employed</th>\n",
       "      <th>dob_years</th>\n",
       "      <th>education</th>\n",
       "      <th>education_id</th>\n",
       "      <th>family_status</th>\n",
       "      <th>family_status_id</th>\n",
       "      <th>gender</th>\n",
       "      <th>income_type</th>\n",
       "      <th>debt</th>\n",
       "      <th>total_income</th>\n",
       "      <th>purpose</th>\n",
       "    </tr>\n",
       "  </thead>\n",
       "  <tbody>\n",
       "    <tr>\n",
       "      <th>0</th>\n",
       "      <td>1</td>\n",
       "      <td>-8437.673028</td>\n",
       "      <td>42</td>\n",
       "      <td>bachelor's degree</td>\n",
       "      <td>0</td>\n",
       "      <td>married</td>\n",
       "      <td>0</td>\n",
       "      <td>F</td>\n",
       "      <td>employee</td>\n",
       "      <td>0</td>\n",
       "      <td>40620.102</td>\n",
       "      <td>purchase of the house</td>\n",
       "    </tr>\n",
       "    <tr>\n",
       "      <th>1</th>\n",
       "      <td>1</td>\n",
       "      <td>-4024.803754</td>\n",
       "      <td>36</td>\n",
       "      <td>secondary education</td>\n",
       "      <td>1</td>\n",
       "      <td>married</td>\n",
       "      <td>0</td>\n",
       "      <td>F</td>\n",
       "      <td>employee</td>\n",
       "      <td>0</td>\n",
       "      <td>17932.802</td>\n",
       "      <td>car purchase</td>\n",
       "    </tr>\n",
       "    <tr>\n",
       "      <th>2</th>\n",
       "      <td>0</td>\n",
       "      <td>-5623.422610</td>\n",
       "      <td>33</td>\n",
       "      <td>Secondary Education</td>\n",
       "      <td>1</td>\n",
       "      <td>married</td>\n",
       "      <td>0</td>\n",
       "      <td>M</td>\n",
       "      <td>employee</td>\n",
       "      <td>0</td>\n",
       "      <td>23341.752</td>\n",
       "      <td>purchase of the house</td>\n",
       "    </tr>\n",
       "    <tr>\n",
       "      <th>3</th>\n",
       "      <td>3</td>\n",
       "      <td>-4124.747207</td>\n",
       "      <td>32</td>\n",
       "      <td>secondary education</td>\n",
       "      <td>1</td>\n",
       "      <td>married</td>\n",
       "      <td>0</td>\n",
       "      <td>M</td>\n",
       "      <td>employee</td>\n",
       "      <td>0</td>\n",
       "      <td>42820.568</td>\n",
       "      <td>supplementary education</td>\n",
       "    </tr>\n",
       "    <tr>\n",
       "      <th>4</th>\n",
       "      <td>0</td>\n",
       "      <td>340266.072047</td>\n",
       "      <td>53</td>\n",
       "      <td>secondary education</td>\n",
       "      <td>1</td>\n",
       "      <td>civil partnership</td>\n",
       "      <td>1</td>\n",
       "      <td>F</td>\n",
       "      <td>retiree</td>\n",
       "      <td>0</td>\n",
       "      <td>25378.572</td>\n",
       "      <td>to have a wedding</td>\n",
       "    </tr>\n",
       "    <tr>\n",
       "      <th>...</th>\n",
       "      <td>...</td>\n",
       "      <td>...</td>\n",
       "      <td>...</td>\n",
       "      <td>...</td>\n",
       "      <td>...</td>\n",
       "      <td>...</td>\n",
       "      <td>...</td>\n",
       "      <td>...</td>\n",
       "      <td>...</td>\n",
       "      <td>...</td>\n",
       "      <td>...</td>\n",
       "      <td>...</td>\n",
       "    </tr>\n",
       "    <tr>\n",
       "      <th>21520</th>\n",
       "      <td>1</td>\n",
       "      <td>-4529.316663</td>\n",
       "      <td>43</td>\n",
       "      <td>secondary education</td>\n",
       "      <td>1</td>\n",
       "      <td>civil partnership</td>\n",
       "      <td>1</td>\n",
       "      <td>F</td>\n",
       "      <td>business</td>\n",
       "      <td>0</td>\n",
       "      <td>35966.698</td>\n",
       "      <td>housing transactions</td>\n",
       "    </tr>\n",
       "    <tr>\n",
       "      <th>21521</th>\n",
       "      <td>0</td>\n",
       "      <td>343937.404131</td>\n",
       "      <td>67</td>\n",
       "      <td>secondary education</td>\n",
       "      <td>1</td>\n",
       "      <td>married</td>\n",
       "      <td>0</td>\n",
       "      <td>F</td>\n",
       "      <td>retiree</td>\n",
       "      <td>0</td>\n",
       "      <td>24959.969</td>\n",
       "      <td>purchase of a car</td>\n",
       "    </tr>\n",
       "    <tr>\n",
       "      <th>21522</th>\n",
       "      <td>1</td>\n",
       "      <td>-2113.346888</td>\n",
       "      <td>38</td>\n",
       "      <td>secondary education</td>\n",
       "      <td>1</td>\n",
       "      <td>civil partnership</td>\n",
       "      <td>1</td>\n",
       "      <td>M</td>\n",
       "      <td>employee</td>\n",
       "      <td>1</td>\n",
       "      <td>14347.610</td>\n",
       "      <td>property</td>\n",
       "    </tr>\n",
       "    <tr>\n",
       "      <th>21523</th>\n",
       "      <td>3</td>\n",
       "      <td>-3112.481705</td>\n",
       "      <td>38</td>\n",
       "      <td>secondary education</td>\n",
       "      <td>1</td>\n",
       "      <td>married</td>\n",
       "      <td>0</td>\n",
       "      <td>M</td>\n",
       "      <td>employee</td>\n",
       "      <td>1</td>\n",
       "      <td>39054.888</td>\n",
       "      <td>buying my own car</td>\n",
       "    </tr>\n",
       "    <tr>\n",
       "      <th>21524</th>\n",
       "      <td>2</td>\n",
       "      <td>-1984.507589</td>\n",
       "      <td>40</td>\n",
       "      <td>secondary education</td>\n",
       "      <td>1</td>\n",
       "      <td>married</td>\n",
       "      <td>0</td>\n",
       "      <td>F</td>\n",
       "      <td>employee</td>\n",
       "      <td>0</td>\n",
       "      <td>13127.587</td>\n",
       "      <td>to buy a car</td>\n",
       "    </tr>\n",
       "  </tbody>\n",
       "</table>\n",
       "<p>19351 rows × 12 columns</p>\n",
       "</div>"
      ],
      "text/plain": [
       "       children  days_employed  dob_years            education  education_id  \\\n",
       "0             1   -8437.673028         42    bachelor's degree             0   \n",
       "1             1   -4024.803754         36  secondary education             1   \n",
       "2             0   -5623.422610         33  Secondary Education             1   \n",
       "3             3   -4124.747207         32  secondary education             1   \n",
       "4             0  340266.072047         53  secondary education             1   \n",
       "...         ...            ...        ...                  ...           ...   \n",
       "21520         1   -4529.316663         43  secondary education             1   \n",
       "21521         0  343937.404131         67  secondary education             1   \n",
       "21522         1   -2113.346888         38  secondary education             1   \n",
       "21523         3   -3112.481705         38  secondary education             1   \n",
       "21524         2   -1984.507589         40  secondary education             1   \n",
       "\n",
       "           family_status  family_status_id gender income_type  debt  \\\n",
       "0                married                 0      F    employee     0   \n",
       "1                married                 0      F    employee     0   \n",
       "2                married                 0      M    employee     0   \n",
       "3                married                 0      M    employee     0   \n",
       "4      civil partnership                 1      F     retiree     0   \n",
       "...                  ...               ...    ...         ...   ...   \n",
       "21520  civil partnership                 1      F    business     0   \n",
       "21521            married                 0      F     retiree     0   \n",
       "21522  civil partnership                 1      M    employee     1   \n",
       "21523            married                 0      M    employee     1   \n",
       "21524            married                 0      F    employee     0   \n",
       "\n",
       "       total_income                  purpose  \n",
       "0         40620.102    purchase of the house  \n",
       "1         17932.802             car purchase  \n",
       "2         23341.752    purchase of the house  \n",
       "3         42820.568  supplementary education  \n",
       "4         25378.572        to have a wedding  \n",
       "...             ...                      ...  \n",
       "21520     35966.698     housing transactions  \n",
       "21521     24959.969        purchase of a car  \n",
       "21522     14347.610                 property  \n",
       "21523     39054.888        buying my own car  \n",
       "21524     13127.587             to buy a car  \n",
       "\n",
       "[19351 rows x 12 columns]"
      ]
     },
     "metadata": {},
     "output_type": "display_data"
    }
   ],
   "source": [
    "df=df.dropna(subset=['total_income'])\n",
    "df.info()\n",
    "display(df)"
   ]
  },
  {
   "cell_type": "code",
   "execution_count": 24,
   "id": "3cda3400",
   "metadata": {},
   "outputs": [
    {
     "name": "stdout",
     "output_type": "stream",
     "text": [
      "Ahora los valores duplicados: 0\n",
      "\n"
     ]
    },
    {
     "data": {
      "text/html": [
       "<div>\n",
       "<style scoped>\n",
       "    .dataframe tbody tr th:only-of-type {\n",
       "        vertical-align: middle;\n",
       "    }\n",
       "\n",
       "    .dataframe tbody tr th {\n",
       "        vertical-align: top;\n",
       "    }\n",
       "\n",
       "    .dataframe thead th {\n",
       "        text-align: right;\n",
       "    }\n",
       "</style>\n",
       "<table border=\"1\" class=\"dataframe\">\n",
       "  <thead>\n",
       "    <tr style=\"text-align: right;\">\n",
       "      <th></th>\n",
       "      <th>children</th>\n",
       "      <th>days_employed</th>\n",
       "      <th>dob_years</th>\n",
       "      <th>education</th>\n",
       "      <th>education_id</th>\n",
       "      <th>family_status</th>\n",
       "      <th>family_status_id</th>\n",
       "      <th>gender</th>\n",
       "      <th>income_type</th>\n",
       "      <th>debt</th>\n",
       "      <th>total_income</th>\n",
       "      <th>purpose</th>\n",
       "    </tr>\n",
       "  </thead>\n",
       "  <tbody>\n",
       "    <tr>\n",
       "      <th>0</th>\n",
       "      <td>1</td>\n",
       "      <td>-8437.673028</td>\n",
       "      <td>42</td>\n",
       "      <td>bachelor's degree</td>\n",
       "      <td>0</td>\n",
       "      <td>married</td>\n",
       "      <td>0</td>\n",
       "      <td>F</td>\n",
       "      <td>employee</td>\n",
       "      <td>0</td>\n",
       "      <td>40620.102</td>\n",
       "      <td>purchase of the house</td>\n",
       "    </tr>\n",
       "    <tr>\n",
       "      <th>1</th>\n",
       "      <td>1</td>\n",
       "      <td>-4024.803754</td>\n",
       "      <td>36</td>\n",
       "      <td>secondary education</td>\n",
       "      <td>1</td>\n",
       "      <td>married</td>\n",
       "      <td>0</td>\n",
       "      <td>F</td>\n",
       "      <td>employee</td>\n",
       "      <td>0</td>\n",
       "      <td>17932.802</td>\n",
       "      <td>car purchase</td>\n",
       "    </tr>\n",
       "    <tr>\n",
       "      <th>2</th>\n",
       "      <td>0</td>\n",
       "      <td>-5623.422610</td>\n",
       "      <td>33</td>\n",
       "      <td>Secondary Education</td>\n",
       "      <td>1</td>\n",
       "      <td>married</td>\n",
       "      <td>0</td>\n",
       "      <td>M</td>\n",
       "      <td>employee</td>\n",
       "      <td>0</td>\n",
       "      <td>23341.752</td>\n",
       "      <td>purchase of the house</td>\n",
       "    </tr>\n",
       "    <tr>\n",
       "      <th>3</th>\n",
       "      <td>3</td>\n",
       "      <td>-4124.747207</td>\n",
       "      <td>32</td>\n",
       "      <td>secondary education</td>\n",
       "      <td>1</td>\n",
       "      <td>married</td>\n",
       "      <td>0</td>\n",
       "      <td>M</td>\n",
       "      <td>employee</td>\n",
       "      <td>0</td>\n",
       "      <td>42820.568</td>\n",
       "      <td>supplementary education</td>\n",
       "    </tr>\n",
       "    <tr>\n",
       "      <th>4</th>\n",
       "      <td>0</td>\n",
       "      <td>340266.072047</td>\n",
       "      <td>53</td>\n",
       "      <td>secondary education</td>\n",
       "      <td>1</td>\n",
       "      <td>civil partnership</td>\n",
       "      <td>1</td>\n",
       "      <td>F</td>\n",
       "      <td>retiree</td>\n",
       "      <td>0</td>\n",
       "      <td>25378.572</td>\n",
       "      <td>to have a wedding</td>\n",
       "    </tr>\n",
       "    <tr>\n",
       "      <th>...</th>\n",
       "      <td>...</td>\n",
       "      <td>...</td>\n",
       "      <td>...</td>\n",
       "      <td>...</td>\n",
       "      <td>...</td>\n",
       "      <td>...</td>\n",
       "      <td>...</td>\n",
       "      <td>...</td>\n",
       "      <td>...</td>\n",
       "      <td>...</td>\n",
       "      <td>...</td>\n",
       "      <td>...</td>\n",
       "    </tr>\n",
       "    <tr>\n",
       "      <th>19346</th>\n",
       "      <td>1</td>\n",
       "      <td>-4529.316663</td>\n",
       "      <td>43</td>\n",
       "      <td>secondary education</td>\n",
       "      <td>1</td>\n",
       "      <td>civil partnership</td>\n",
       "      <td>1</td>\n",
       "      <td>F</td>\n",
       "      <td>business</td>\n",
       "      <td>0</td>\n",
       "      <td>35966.698</td>\n",
       "      <td>housing transactions</td>\n",
       "    </tr>\n",
       "    <tr>\n",
       "      <th>19347</th>\n",
       "      <td>0</td>\n",
       "      <td>343937.404131</td>\n",
       "      <td>67</td>\n",
       "      <td>secondary education</td>\n",
       "      <td>1</td>\n",
       "      <td>married</td>\n",
       "      <td>0</td>\n",
       "      <td>F</td>\n",
       "      <td>retiree</td>\n",
       "      <td>0</td>\n",
       "      <td>24959.969</td>\n",
       "      <td>purchase of a car</td>\n",
       "    </tr>\n",
       "    <tr>\n",
       "      <th>19348</th>\n",
       "      <td>1</td>\n",
       "      <td>-2113.346888</td>\n",
       "      <td>38</td>\n",
       "      <td>secondary education</td>\n",
       "      <td>1</td>\n",
       "      <td>civil partnership</td>\n",
       "      <td>1</td>\n",
       "      <td>M</td>\n",
       "      <td>employee</td>\n",
       "      <td>1</td>\n",
       "      <td>14347.610</td>\n",
       "      <td>property</td>\n",
       "    </tr>\n",
       "    <tr>\n",
       "      <th>19349</th>\n",
       "      <td>3</td>\n",
       "      <td>-3112.481705</td>\n",
       "      <td>38</td>\n",
       "      <td>secondary education</td>\n",
       "      <td>1</td>\n",
       "      <td>married</td>\n",
       "      <td>0</td>\n",
       "      <td>M</td>\n",
       "      <td>employee</td>\n",
       "      <td>1</td>\n",
       "      <td>39054.888</td>\n",
       "      <td>buying my own car</td>\n",
       "    </tr>\n",
       "    <tr>\n",
       "      <th>19350</th>\n",
       "      <td>2</td>\n",
       "      <td>-1984.507589</td>\n",
       "      <td>40</td>\n",
       "      <td>secondary education</td>\n",
       "      <td>1</td>\n",
       "      <td>married</td>\n",
       "      <td>0</td>\n",
       "      <td>F</td>\n",
       "      <td>employee</td>\n",
       "      <td>0</td>\n",
       "      <td>13127.587</td>\n",
       "      <td>to buy a car</td>\n",
       "    </tr>\n",
       "  </tbody>\n",
       "</table>\n",
       "<p>19351 rows × 12 columns</p>\n",
       "</div>"
      ],
      "text/plain": [
       "       children  days_employed  dob_years            education  education_id  \\\n",
       "0             1   -8437.673028         42    bachelor's degree             0   \n",
       "1             1   -4024.803754         36  secondary education             1   \n",
       "2             0   -5623.422610         33  Secondary Education             1   \n",
       "3             3   -4124.747207         32  secondary education             1   \n",
       "4             0  340266.072047         53  secondary education             1   \n",
       "...         ...            ...        ...                  ...           ...   \n",
       "19346         1   -4529.316663         43  secondary education             1   \n",
       "19347         0  343937.404131         67  secondary education             1   \n",
       "19348         1   -2113.346888         38  secondary education             1   \n",
       "19349         3   -3112.481705         38  secondary education             1   \n",
       "19350         2   -1984.507589         40  secondary education             1   \n",
       "\n",
       "           family_status  family_status_id gender income_type  debt  \\\n",
       "0                married                 0      F    employee     0   \n",
       "1                married                 0      F    employee     0   \n",
       "2                married                 0      M    employee     0   \n",
       "3                married                 0      M    employee     0   \n",
       "4      civil partnership                 1      F     retiree     0   \n",
       "...                  ...               ...    ...         ...   ...   \n",
       "19346  civil partnership                 1      F    business     0   \n",
       "19347            married                 0      F     retiree     0   \n",
       "19348  civil partnership                 1      M    employee     1   \n",
       "19349            married                 0      M    employee     1   \n",
       "19350            married                 0      F    employee     0   \n",
       "\n",
       "       total_income                  purpose  \n",
       "0         40620.102    purchase of the house  \n",
       "1         17932.802             car purchase  \n",
       "2         23341.752    purchase of the house  \n",
       "3         42820.568  supplementary education  \n",
       "4         25378.572        to have a wedding  \n",
       "...             ...                      ...  \n",
       "19346     35966.698     housing transactions  \n",
       "19347     24959.969        purchase of a car  \n",
       "19348     14347.610                 property  \n",
       "19349     39054.888        buying my own car  \n",
       "19350     13127.587             to buy a car  \n",
       "\n",
       "[19351 rows x 12 columns]"
      ]
     },
     "metadata": {},
     "output_type": "display_data"
    }
   ],
   "source": [
    "df=df.drop_duplicates().reset_index(drop=True) # Al poner drop=True aun cuando no tenga valores duplicados, reinicia el indice\n",
    "print('Ahora los valores duplicados:',df.duplicated().sum()) #Con esto se confirma que valores duplicados se eliminaron\n",
    "print()\n",
    "display(df)"
   ]
  },
  {
   "cell_type": "markdown",
   "id": "035f9012",
   "metadata": {},
   "source": [
    "Ya que uno de los propositos es entender como afecta el proposito del prestamo en el cumplimiento a su reembolso a tiempo. A continuacion se van a eliminar los duplicados implicitos en las columnas: purpose, income_type y education"
   ]
  },
  {
   "cell_type": "code",
   "execution_count": 25,
   "id": "8aa9ed57",
   "metadata": {},
   "outputs": [
    {
     "name": "stdout",
     "output_type": "stream",
     "text": [
      "[\"bachelor's degree\" 'secondary education' 'some college'\n",
      " 'primary education' 'graduate degree']\n",
      "\n",
      "['real estate' 'car' 'education' 'wedding']\n"
     ]
    }
   ],
   "source": [
    "for i in range(len(df['education'])):\n",
    "    df.loc[i,'education']=df.loc[i,'education'].lower()\n",
    "\n",
    "def replace_duplicate_implicit(word):\n",
    "    for wrong_value in df['purpose']:\n",
    "        if word in wrong_value:\n",
    "            df['purpose']=df['purpose'].replace(wrong_value,word)\n",
    "\n",
    "duplicates=['housing','house','housing transactions','construction of own property','property','building a property','to become educated','buying property for renting out','housing renovation']\n",
    "replace_duplicate_implicit('car')\n",
    "replace_duplicate_implicit('house')\n",
    "replace_duplicate_implicit('education')\n",
    "replace_duplicate_implicit('wedding')\n",
    "replace_duplicate_implicit('real estate')\n",
    "df['purpose']=df['purpose'].replace('going to university','education')\n",
    "df['purpose']=df['purpose'].replace(duplicates,'real estate')\n",
    "print(df['education'].unique()) # Se mostrara que se han eliminado los duplicados implicitos para columna 'education'\n",
    "print()\n",
    "print(df['purpose'].unique()) # Se mostrara que se han eliminado los duplicados implicitos para columna 'purpose'"
   ]
  },
  {
   "cell_type": "code",
   "execution_count": 26,
   "id": "0cfabab7",
   "metadata": {},
   "outputs": [
    {
     "name": "stdout",
     "output_type": "stream",
     "text": [
      "['employee' 'retiree' 'business' 'civil servant' 'unemployed' 'student'\n",
      " 'entrepreneur' 'paternity / maternity leave']\n"
     ]
    }
   ],
   "source": [
    "print(df['income_type'].unique()) # Esto nos va a motrar los valores de la columna 'income_type'"
   ]
  },
  {
   "cell_type": "code",
   "execution_count": 27,
   "id": "4ccb7ad5",
   "metadata": {},
   "outputs": [],
   "source": [
    "df['income_type']=df['income_type'].replace('civil servant','employee')\n",
    "df['income_type']=df['income_type'].replace('entrepreneur','business')"
   ]
  },
  {
   "cell_type": "code",
   "execution_count": 28,
   "id": "88702337",
   "metadata": {},
   "outputs": [
    {
     "name": "stdout",
     "output_type": "stream",
     "text": [
      "['employee' 'retiree' 'business' 'unemployed' 'student'\n",
      " 'paternity / maternity leave']\n"
     ]
    }
   ],
   "source": [
    "print(df['income_type'].unique()) # Se mostrara que se han eliminado los duplicados implicitos para columna 'income_type'"
   ]
  },
  {
   "cell_type": "code",
   "execution_count": 29,
   "id": "acf26bfa",
   "metadata": {},
   "outputs": [
    {
     "data": {
      "text/html": [
       "<div>\n",
       "<style scoped>\n",
       "    .dataframe tbody tr th:only-of-type {\n",
       "        vertical-align: middle;\n",
       "    }\n",
       "\n",
       "    .dataframe tbody tr th {\n",
       "        vertical-align: top;\n",
       "    }\n",
       "\n",
       "    .dataframe thead th {\n",
       "        text-align: right;\n",
       "    }\n",
       "</style>\n",
       "<table border=\"1\" class=\"dataframe\">\n",
       "  <thead>\n",
       "    <tr style=\"text-align: right;\">\n",
       "      <th></th>\n",
       "      <th>children</th>\n",
       "      <th>days_employed</th>\n",
       "      <th>dob_years</th>\n",
       "      <th>education</th>\n",
       "      <th>education_id</th>\n",
       "      <th>family_status</th>\n",
       "      <th>family_status_id</th>\n",
       "      <th>gender</th>\n",
       "      <th>income_type</th>\n",
       "      <th>debt</th>\n",
       "      <th>total_income</th>\n",
       "      <th>purpose</th>\n",
       "    </tr>\n",
       "  </thead>\n",
       "  <tbody>\n",
       "    <tr>\n",
       "      <th>9662</th>\n",
       "      <td>0</td>\n",
       "      <td>-2358.600502</td>\n",
       "      <td>24</td>\n",
       "      <td>some college</td>\n",
       "      <td>2</td>\n",
       "      <td>civil partnership</td>\n",
       "      <td>1</td>\n",
       "      <td>XNA</td>\n",
       "      <td>business</td>\n",
       "      <td>0</td>\n",
       "      <td>32624.825</td>\n",
       "      <td>real estate</td>\n",
       "    </tr>\n",
       "  </tbody>\n",
       "</table>\n",
       "</div>"
      ],
      "text/plain": [
       "      children  days_employed  dob_years     education  education_id  \\\n",
       "9662         0   -2358.600502         24  some college             2   \n",
       "\n",
       "          family_status  family_status_id gender income_type  debt  \\\n",
       "9662  civil partnership                 1    XNA    business     0   \n",
       "\n",
       "      total_income      purpose  \n",
       "9662     32624.825  real estate  "
      ]
     },
     "execution_count": 29,
     "metadata": {},
     "output_type": "execute_result"
    }
   ],
   "source": [
    "df[df['gender']=='XNA'] "
   ]
  },
  {
   "cell_type": "markdown",
   "id": "ca80c91d",
   "metadata": {},
   "source": [
    "**Nota: A pesar de que no esta claro si es 'Male' o 'Female', como no indica analizar como afecta esto, no voy a modificar esta parte.**"
   ]
  },
  {
   "cell_type": "code",
   "execution_count": 30,
   "id": "6aa413d6",
   "metadata": {
    "scrolled": true
   },
   "outputs": [
    {
     "name": "stdout",
     "output_type": "stream",
     "text": [
      "Porcentaje de Valores negativos en la columna 'days_employed': 82.20%\n"
     ]
    }
   ],
   "source": [
    "negative=df.loc[df['days_employed']<0,'days_employed'].count()\n",
    "total=df['days_employed'].count()\n",
    "rate=negative/total\n",
    "print(f'Porcentaje de Valores negativos en la columna \\'days_employed\\': {rate:.2%}')"
   ]
  },
  {
   "cell_type": "markdown",
   "id": "201cb7db",
   "metadata": {},
   "source": [
    "Por lo que se ve los valores negativos representan un alto porcentaje. La explicacion para que se tenga valores negativos en esta celda puede ser debido a:\n",
    "- Error humano: error de digitacion al ingresar la informacion\n",
    "- Al ver un porcentaje tan alto puede ser que se uso una formula para obtener los dias trabajados como parte de estos\n",
    "\n",
    "En todo caso a falta de mas informacion voy a proceder a convertir en valores positivos, aunque en realidad esto no tiene impacto alguno en el analisis, porque dentro de los requerimientos no pide realizar analisis con estas columnas."
   ]
  },
  {
   "cell_type": "code",
   "execution_count": 31,
   "id": "c2fd02dd",
   "metadata": {
    "scrolled": true
   },
   "outputs": [
    {
     "name": "stdout",
     "output_type": "stream",
     "text": [
      "Cantidad de Valores negativos en 'days_employed': 0\n"
     ]
    }
   ],
   "source": [
    "for i in range(len(df['days_employed'])):\n",
    "               if df.loc[i,'days_employed']<0:\n",
    "                   df.loc[i,'days_employed']=-df.loc[i,'days_employed']\n",
    "negative=df.loc[df['days_employed']<0,'days_employed'].count()\n",
    "print('Cantidad de Valores negativos en \\'days_employed\\':',negative)"
   ]
  },
  {
   "cell_type": "markdown",
   "id": "dedff91d",
   "metadata": {},
   "source": [
    "El proyecto solicita: \"Reemplaza el tipo de datos de número real con el tipo de número entero\""
   ]
  },
  {
   "cell_type": "code",
   "execution_count": 32,
   "id": "8b031ae8",
   "metadata": {},
   "outputs": [
    {
     "name": "stdout",
     "output_type": "stream",
     "text": [
      "<class 'pandas.core.frame.DataFrame'>\n",
      "RangeIndex: 19351 entries, 0 to 19350\n",
      "Data columns (total 12 columns):\n",
      " #   Column            Non-Null Count  Dtype \n",
      "---  ------            --------------  ----- \n",
      " 0   children          19351 non-null  int64 \n",
      " 1   days_employed     19351 non-null  int64 \n",
      " 2   dob_years         19351 non-null  int64 \n",
      " 3   education         19351 non-null  object\n",
      " 4   education_id      19351 non-null  int64 \n",
      " 5   family_status     19351 non-null  object\n",
      " 6   family_status_id  19351 non-null  int64 \n",
      " 7   gender            19351 non-null  object\n",
      " 8   income_type       19351 non-null  object\n",
      " 9   debt              19351 non-null  int64 \n",
      " 10  total_income      19351 non-null  int64 \n",
      " 11  purpose           19351 non-null  object\n",
      "dtypes: int64(7), object(5)\n",
      "memory usage: 1.8+ MB\n"
     ]
    }
   ],
   "source": [
    "df['days_employed']=df['days_employed'].astype('int64') #aqui se convierte a enteros los valores flotantes\n",
    "df['total_income']=df['total_income'].astype('int64') #aqui se convierte a enteros los valores flotantes\n",
    "df.info()"
   ]
  },
  {
   "cell_type": "markdown",
   "id": "79c0b798",
   "metadata": {},
   "source": [
    "Al usar la funcion int() con lo cual se eliminaron los decimales, siguen apareciendo en la info() como un tipo de dato flotante. Por tanto decidi usar el metodo astype(), como se aprecia ahora todos los numeros son datos del tipo int64"
   ]
  },
  {
   "cell_type": "markdown",
   "id": "7a45184f",
   "metadata": {},
   "source": [
    "Ya se tiene los datos con datos ausentes eliminados(df) y los datos con los valores ausentes rellenados con la mediana (df_filled). Ahora se va a proceder a comparar los datos de estas dos tablas en los objetivos que tenemos.\n",
    "\n",
    "El paso inmediato es agrupar los valores en 'total_income' por rangos para asi realizar las comparaciones."
   ]
  },
  {
   "cell_type": "code",
   "execution_count": 33,
   "id": "6a2e454d",
   "metadata": {},
   "outputs": [],
   "source": [
    "for i in range(len(df['total_income'])):\n",
    "    if df.loc[i,'total_income']<=3000:\n",
    "        df.loc[i,'total_income_range']='range 0-100000'\n",
    "    elif 3000<df.loc[i,'total_income']<=100000:\n",
    "        df.loc[i,'total_income_range']='range 3000-100000'\n",
    "    elif 100000<df.loc[i,'total_income']<=200000:\n",
    "        df.loc[i,'total_income_range']='range 100000-200000'\n",
    "    elif 200000<df.loc[i,'total_income']<=300000:\n",
    "        df.loc[i,'total_income_range']='range 200000-300000'\n",
    "    else:\n",
    "        df.loc[i,'total_income_range']='range +300000'"
   ]
  },
  {
   "cell_type": "code",
   "execution_count": 34,
   "id": "4233484c",
   "metadata": {},
   "outputs": [],
   "source": [
    "for i in range(len(df_filled['total_income'])):\n",
    "    if df_filled.loc[i,'total_income']<=3000:\n",
    "        df_filled.loc[i,'total_income_range']='range 0-100000'\n",
    "    elif 3000<df_filled.loc[i,'total_income']<=100000:\n",
    "        df_filled.loc[i,'total_income_range']='range 3000-100000'\n",
    "    elif 100000<df_filled.loc[i,'total_income']<=200000:\n",
    "        df_filled.loc[i,'total_income_range']='range 100000-200000'\n",
    "    elif 200000<df_filled.loc[i,'total_income']<=300000:\n",
    "        df_filled.loc[i,'total_income_range']='range 200000-300000'\n",
    "    else:\n",
    "        df_filled.loc[i,'total_income_range']='range +300000'"
   ]
  },
  {
   "cell_type": "code",
   "execution_count": 35,
   "id": "33a4601d",
   "metadata": {},
   "outputs": [],
   "source": [
    "tir_debt=df.pivot_table(index='total_income_range',columns='debt',values='total_income',aggfunc='count',margins=True)\n",
    "tir_debt_filled=df_filled.pivot_table(index='total_income_range',columns='debt',values='total_income',aggfunc='count',margins=True)"
   ]
  },
  {
   "cell_type": "markdown",
   "id": "7cd7bcdc",
   "metadata": {},
   "source": [
    "# **5. ANALISIS COMPARATIVO** <a id='Comparative_analysis'></a>"
   ]
  },
  {
   "cell_type": "markdown",
   "id": "f13b94a8",
   "metadata": {},
   "source": [
    "## **5.1 HIJOS VS REEMBOLSO DE PRESTAMOS A TIEMPO** <a id='children_vs_debt'></a>"
   ]
  },
  {
   "cell_type": "code",
   "execution_count": 36,
   "id": "05a36eaa",
   "metadata": {},
   "outputs": [
    {
     "data": {
      "text/html": [
       "<div>\n",
       "<style scoped>\n",
       "    .dataframe tbody tr th:only-of-type {\n",
       "        vertical-align: middle;\n",
       "    }\n",
       "\n",
       "    .dataframe tbody tr th {\n",
       "        vertical-align: top;\n",
       "    }\n",
       "\n",
       "    .dataframe thead th {\n",
       "        text-align: right;\n",
       "    }\n",
       "</style>\n",
       "<table border=\"1\" class=\"dataframe\">\n",
       "  <thead>\n",
       "    <tr style=\"text-align: right;\">\n",
       "      <th>debt</th>\n",
       "      <th>0</th>\n",
       "      <th>1</th>\n",
       "      <th>All</th>\n",
       "    </tr>\n",
       "    <tr>\n",
       "      <th>children</th>\n",
       "      <th></th>\n",
       "      <th></th>\n",
       "      <th></th>\n",
       "    </tr>\n",
       "  </thead>\n",
       "  <tbody>\n",
       "    <tr>\n",
       "      <th>0</th>\n",
       "      <td>11758.0</td>\n",
       "      <td>952.0</td>\n",
       "      <td>12710</td>\n",
       "    </tr>\n",
       "    <tr>\n",
       "      <th>1</th>\n",
       "      <td>3978.0</td>\n",
       "      <td>409.0</td>\n",
       "      <td>4387</td>\n",
       "    </tr>\n",
       "    <tr>\n",
       "      <th>2</th>\n",
       "      <td>1674.0</td>\n",
       "      <td>177.0</td>\n",
       "      <td>1851</td>\n",
       "    </tr>\n",
       "    <tr>\n",
       "      <th>3</th>\n",
       "      <td>272.0</td>\n",
       "      <td>22.0</td>\n",
       "      <td>294</td>\n",
       "    </tr>\n",
       "    <tr>\n",
       "      <th>4</th>\n",
       "      <td>31.0</td>\n",
       "      <td>3.0</td>\n",
       "      <td>34</td>\n",
       "    </tr>\n",
       "    <tr>\n",
       "      <th>5</th>\n",
       "      <td>8.0</td>\n",
       "      <td>NaN</td>\n",
       "      <td>8</td>\n",
       "    </tr>\n",
       "    <tr>\n",
       "      <th>20</th>\n",
       "      <td>59.0</td>\n",
       "      <td>8.0</td>\n",
       "      <td>67</td>\n",
       "    </tr>\n",
       "    <tr>\n",
       "      <th>All</th>\n",
       "      <td>17780.0</td>\n",
       "      <td>1571.0</td>\n",
       "      <td>19351</td>\n",
       "    </tr>\n",
       "  </tbody>\n",
       "</table>\n",
       "</div>"
      ],
      "text/plain": [
       "debt            0       1    All\n",
       "children                        \n",
       "0         11758.0   952.0  12710\n",
       "1          3978.0   409.0   4387\n",
       "2          1674.0   177.0   1851\n",
       "3           272.0    22.0    294\n",
       "4            31.0     3.0     34\n",
       "5             8.0     NaN      8\n",
       "20           59.0     8.0     67\n",
       "All       17780.0  1571.0  19351"
      ]
     },
     "execution_count": 36,
     "metadata": {},
     "output_type": "execute_result"
    }
   ],
   "source": [
    "df.pivot_table(index='children',columns='debt',values='total_income',aggfunc='count',margins=True)"
   ]
  },
  {
   "cell_type": "markdown",
   "id": "076ffa4b",
   "metadata": {},
   "source": [
    "## **5.2 ESTADO CIVIL VS REEMBOLSO DE PRESTAMOS A TIEMPO** <a id='family_status_vs_debt'></a>"
   ]
  },
  {
   "cell_type": "code",
   "execution_count": 37,
   "id": "ea6418a5",
   "metadata": {},
   "outputs": [
    {
     "data": {
      "text/html": [
       "<div>\n",
       "<style scoped>\n",
       "    .dataframe tbody tr th:only-of-type {\n",
       "        vertical-align: middle;\n",
       "    }\n",
       "\n",
       "    .dataframe tbody tr th {\n",
       "        vertical-align: top;\n",
       "    }\n",
       "\n",
       "    .dataframe thead th {\n",
       "        text-align: right;\n",
       "    }\n",
       "</style>\n",
       "<table border=\"1\" class=\"dataframe\">\n",
       "  <thead>\n",
       "    <tr style=\"text-align: right;\">\n",
       "      <th>debt</th>\n",
       "      <th>0</th>\n",
       "      <th>1</th>\n",
       "      <th>All</th>\n",
       "    </tr>\n",
       "    <tr>\n",
       "      <th>family_status</th>\n",
       "      <th></th>\n",
       "      <th></th>\n",
       "      <th></th>\n",
       "    </tr>\n",
       "  </thead>\n",
       "  <tbody>\n",
       "    <tr>\n",
       "      <th>civil partnership</th>\n",
       "      <td>3396</td>\n",
       "      <td>339</td>\n",
       "      <td>3735</td>\n",
       "    </tr>\n",
       "    <tr>\n",
       "      <th>divorced</th>\n",
       "      <td>1007</td>\n",
       "      <td>76</td>\n",
       "      <td>1083</td>\n",
       "    </tr>\n",
       "    <tr>\n",
       "      <th>married</th>\n",
       "      <td>10297</td>\n",
       "      <td>846</td>\n",
       "      <td>11143</td>\n",
       "    </tr>\n",
       "    <tr>\n",
       "      <th>unmarried</th>\n",
       "      <td>2271</td>\n",
       "      <td>254</td>\n",
       "      <td>2525</td>\n",
       "    </tr>\n",
       "    <tr>\n",
       "      <th>widow / widower</th>\n",
       "      <td>809</td>\n",
       "      <td>56</td>\n",
       "      <td>865</td>\n",
       "    </tr>\n",
       "    <tr>\n",
       "      <th>All</th>\n",
       "      <td>17780</td>\n",
       "      <td>1571</td>\n",
       "      <td>19351</td>\n",
       "    </tr>\n",
       "  </tbody>\n",
       "</table>\n",
       "</div>"
      ],
      "text/plain": [
       "debt                   0     1    All\n",
       "family_status                        \n",
       "civil partnership   3396   339   3735\n",
       "divorced            1007    76   1083\n",
       "married            10297   846  11143\n",
       "unmarried           2271   254   2525\n",
       "widow / widower      809    56    865\n",
       "All                17780  1571  19351"
      ]
     },
     "execution_count": 37,
     "metadata": {},
     "output_type": "execute_result"
    }
   ],
   "source": [
    "df.pivot_table(index='family_status',columns='debt',values='total_income',aggfunc='count',margins=True)"
   ]
  },
  {
   "cell_type": "markdown",
   "id": "e47ef3dc",
   "metadata": {},
   "source": [
    "## **5.3 NIVEL DE INGRESO VS REEMBOLSO DE PRESTAMOS A TIEMPO** <a id='income_vs_debt'></a> "
   ]
  },
  {
   "cell_type": "markdown",
   "id": "6d2aae08",
   "metadata": {},
   "source": [
    "A continuacion se va a generar y presentar las tablas para comparar el nivel de ingreso y el reembolso de un prestamo a tiempo"
   ]
  },
  {
   "cell_type": "code",
   "execution_count": 38,
   "id": "734073c6",
   "metadata": {},
   "outputs": [
    {
     "name": "stdout",
     "output_type": "stream",
     "text": [
      "Lista donde se eliminaron valores ausentes de 'total_income':\n"
     ]
    },
    {
     "data": {
      "text/html": [
       "<div>\n",
       "<style scoped>\n",
       "    .dataframe tbody tr th:only-of-type {\n",
       "        vertical-align: middle;\n",
       "    }\n",
       "\n",
       "    .dataframe tbody tr th {\n",
       "        vertical-align: top;\n",
       "    }\n",
       "\n",
       "    .dataframe thead th {\n",
       "        text-align: right;\n",
       "    }\n",
       "</style>\n",
       "<table border=\"1\" class=\"dataframe\">\n",
       "  <thead>\n",
       "    <tr style=\"text-align: right;\">\n",
       "      <th>debt</th>\n",
       "      <th>0</th>\n",
       "      <th>1</th>\n",
       "      <th>All</th>\n",
       "    </tr>\n",
       "    <tr>\n",
       "      <th>total_income_range</th>\n",
       "      <th></th>\n",
       "      <th></th>\n",
       "      <th></th>\n",
       "    </tr>\n",
       "  </thead>\n",
       "  <tbody>\n",
       "    <tr>\n",
       "      <th>range 3000-100000</th>\n",
       "      <td>17687.0</td>\n",
       "      <td>1565.0</td>\n",
       "      <td>19252</td>\n",
       "    </tr>\n",
       "    <tr>\n",
       "      <th>range 200000-300000</th>\n",
       "      <td>9.0</td>\n",
       "      <td>NaN</td>\n",
       "      <td>9</td>\n",
       "    </tr>\n",
       "    <tr>\n",
       "      <th>range 100000-200000</th>\n",
       "      <td>83.0</td>\n",
       "      <td>5.0</td>\n",
       "      <td>88</td>\n",
       "    </tr>\n",
       "    <tr>\n",
       "      <th>range +300000</th>\n",
       "      <td>1.0</td>\n",
       "      <td>1.0</td>\n",
       "      <td>2</td>\n",
       "    </tr>\n",
       "    <tr>\n",
       "      <th>All</th>\n",
       "      <td>17780.0</td>\n",
       "      <td>1571.0</td>\n",
       "      <td>19351</td>\n",
       "    </tr>\n",
       "  </tbody>\n",
       "</table>\n",
       "</div>"
      ],
      "text/plain": [
       "debt                       0       1    All\n",
       "total_income_range                         \n",
       "range 3000-100000    17687.0  1565.0  19252\n",
       "range 200000-300000      9.0     NaN      9\n",
       "range 100000-200000     83.0     5.0     88\n",
       "range +300000            1.0     1.0      2\n",
       "All                  17780.0  1571.0  19351"
      ]
     },
     "metadata": {},
     "output_type": "display_data"
    },
    {
     "name": "stdout",
     "output_type": "stream",
     "text": [
      "Lista donde se rellenaron valores ausentes de 'total_income' con la mediana:\n"
     ]
    },
    {
     "data": {
      "text/html": [
       "<div>\n",
       "<style scoped>\n",
       "    .dataframe tbody tr th:only-of-type {\n",
       "        vertical-align: middle;\n",
       "    }\n",
       "\n",
       "    .dataframe tbody tr th {\n",
       "        vertical-align: top;\n",
       "    }\n",
       "\n",
       "    .dataframe thead th {\n",
       "        text-align: right;\n",
       "    }\n",
       "</style>\n",
       "<table border=\"1\" class=\"dataframe\">\n",
       "  <thead>\n",
       "    <tr style=\"text-align: right;\">\n",
       "      <th>debt</th>\n",
       "      <th>0</th>\n",
       "      <th>1</th>\n",
       "      <th>All</th>\n",
       "    </tr>\n",
       "    <tr>\n",
       "      <th>total_income_range</th>\n",
       "      <th></th>\n",
       "      <th></th>\n",
       "      <th></th>\n",
       "    </tr>\n",
       "  </thead>\n",
       "  <tbody>\n",
       "    <tr>\n",
       "      <th>range 3000-100000</th>\n",
       "      <td>19637.0</td>\n",
       "      <td>1735.0</td>\n",
       "      <td>21372</td>\n",
       "    </tr>\n",
       "    <tr>\n",
       "      <th>range 200000-300000</th>\n",
       "      <td>9.0</td>\n",
       "      <td>NaN</td>\n",
       "      <td>9</td>\n",
       "    </tr>\n",
       "    <tr>\n",
       "      <th>range 100000-200000</th>\n",
       "      <td>83.0</td>\n",
       "      <td>5.0</td>\n",
       "      <td>88</td>\n",
       "    </tr>\n",
       "    <tr>\n",
       "      <th>range +300000</th>\n",
       "      <td>1.0</td>\n",
       "      <td>1.0</td>\n",
       "      <td>2</td>\n",
       "    </tr>\n",
       "    <tr>\n",
       "      <th>All</th>\n",
       "      <td>19730.0</td>\n",
       "      <td>1741.0</td>\n",
       "      <td>21471</td>\n",
       "    </tr>\n",
       "  </tbody>\n",
       "</table>\n",
       "</div>"
      ],
      "text/plain": [
       "debt                       0       1    All\n",
       "total_income_range                         \n",
       "range 3000-100000    19637.0  1735.0  21372\n",
       "range 200000-300000      9.0     NaN      9\n",
       "range 100000-200000     83.0     5.0     88\n",
       "range +300000            1.0     1.0      2\n",
       "All                  19730.0  1741.0  21471"
      ]
     },
     "metadata": {},
     "output_type": "display_data"
    }
   ],
   "source": [
    "print(\"Lista donde se eliminaron valores ausentes de 'total_income':\")\n",
    "display(tir_debt.sort_values(by='total_income_range',ascending=False))\n",
    "print(\"Lista donde se rellenaron valores ausentes de 'total_income' con la mediana:\")\n",
    "display(tir_debt_filled.sort_values(by='total_income_range',ascending=False))"
   ]
  },
  {
   "cell_type": "markdown",
   "id": "44659fc7",
   "metadata": {},
   "source": [
    "Comparando ambas tablas se evidencia que los valores ausentes estaban en el rango de +300000"
   ]
  },
  {
   "cell_type": "markdown",
   "id": "dc685f72",
   "metadata": {},
   "source": [
    "## **5.4 PROPOSITO VS REEMBOLSO DE PRESTAMOS A TIEMPO** <a id='purpose_vs_debt'></a> "
   ]
  },
  {
   "cell_type": "code",
   "execution_count": 39,
   "id": "d809999a",
   "metadata": {
    "scrolled": true
   },
   "outputs": [
    {
     "data": {
      "text/html": [
       "<div>\n",
       "<style scoped>\n",
       "    .dataframe tbody tr th:only-of-type {\n",
       "        vertical-align: middle;\n",
       "    }\n",
       "\n",
       "    .dataframe tbody tr th {\n",
       "        vertical-align: top;\n",
       "    }\n",
       "\n",
       "    .dataframe thead th {\n",
       "        text-align: right;\n",
       "    }\n",
       "</style>\n",
       "<table border=\"1\" class=\"dataframe\">\n",
       "  <thead>\n",
       "    <tr style=\"text-align: right;\">\n",
       "      <th>debt</th>\n",
       "      <th>0</th>\n",
       "      <th>1</th>\n",
       "      <th>All</th>\n",
       "    </tr>\n",
       "    <tr>\n",
       "      <th>purpose</th>\n",
       "      <th></th>\n",
       "      <th></th>\n",
       "      <th></th>\n",
       "    </tr>\n",
       "  </thead>\n",
       "  <tbody>\n",
       "    <tr>\n",
       "      <th>car</th>\n",
       "      <td>3530</td>\n",
       "      <td>367</td>\n",
       "      <td>3897</td>\n",
       "    </tr>\n",
       "    <tr>\n",
       "      <th>education</th>\n",
       "      <td>2943</td>\n",
       "      <td>297</td>\n",
       "      <td>3240</td>\n",
       "    </tr>\n",
       "    <tr>\n",
       "      <th>real estate</th>\n",
       "      <td>9366</td>\n",
       "      <td>749</td>\n",
       "      <td>10115</td>\n",
       "    </tr>\n",
       "    <tr>\n",
       "      <th>wedding</th>\n",
       "      <td>1941</td>\n",
       "      <td>158</td>\n",
       "      <td>2099</td>\n",
       "    </tr>\n",
       "    <tr>\n",
       "      <th>All</th>\n",
       "      <td>17780</td>\n",
       "      <td>1571</td>\n",
       "      <td>19351</td>\n",
       "    </tr>\n",
       "  </tbody>\n",
       "</table>\n",
       "</div>"
      ],
      "text/plain": [
       "debt             0     1    All\n",
       "purpose                        \n",
       "car           3530   367   3897\n",
       "education     2943   297   3240\n",
       "real estate   9366   749  10115\n",
       "wedding       1941   158   2099\n",
       "All          17780  1571  19351"
      ]
     },
     "execution_count": 39,
     "metadata": {},
     "output_type": "execute_result"
    }
   ],
   "source": [
    "df.pivot_table(index='purpose',columns='debt',values='total_income',aggfunc='count',margins=True)"
   ]
  },
  {
   "cell_type": "code",
   "execution_count": 40,
   "id": "acc0679c",
   "metadata": {},
   "outputs": [
    {
     "data": {
      "text/html": [
       "<div>\n",
       "<style scoped>\n",
       "    .dataframe tbody tr th:only-of-type {\n",
       "        vertical-align: middle;\n",
       "    }\n",
       "\n",
       "    .dataframe tbody tr th {\n",
       "        vertical-align: top;\n",
       "    }\n",
       "\n",
       "    .dataframe thead th {\n",
       "        text-align: right;\n",
       "    }\n",
       "</style>\n",
       "<table border=\"1\" class=\"dataframe\">\n",
       "  <thead>\n",
       "    <tr style=\"text-align: right;\">\n",
       "      <th></th>\n",
       "      <th>children</th>\n",
       "      <th>days_employed</th>\n",
       "      <th>dob_years</th>\n",
       "      <th>education</th>\n",
       "      <th>education_id</th>\n",
       "      <th>family_status</th>\n",
       "      <th>family_status_id</th>\n",
       "      <th>gender</th>\n",
       "      <th>income_type</th>\n",
       "      <th>debt</th>\n",
       "      <th>total_income</th>\n",
       "      <th>purpose</th>\n",
       "      <th>total_income_range</th>\n",
       "    </tr>\n",
       "  </thead>\n",
       "  <tbody>\n",
       "  </tbody>\n",
       "</table>\n",
       "</div>"
      ],
      "text/plain": [
       "Empty DataFrame\n",
       "Columns: [children, days_employed, dob_years, education, education_id, family_status, family_status_id, gender, income_type, debt, total_income, purpose, total_income_range]\n",
       "Index: []"
      ]
     },
     "execution_count": 40,
     "metadata": {},
     "output_type": "execute_result"
    }
   ],
   "source": [
    "df[(df['family_status']=='unmarried')&(df['purpose']=='car')&(df['total_income_range']=='range +300000')]"
   ]
  },
  {
   "cell_type": "code",
   "execution_count": 41,
   "id": "dca0850e",
   "metadata": {},
   "outputs": [
    {
     "data": {
      "text/html": [
       "<div>\n",
       "<style scoped>\n",
       "    .dataframe tbody tr th:only-of-type {\n",
       "        vertical-align: middle;\n",
       "    }\n",
       "\n",
       "    .dataframe tbody tr th {\n",
       "        vertical-align: top;\n",
       "    }\n",
       "\n",
       "    .dataframe thead th {\n",
       "        text-align: right;\n",
       "    }\n",
       "</style>\n",
       "<table border=\"1\" class=\"dataframe\">\n",
       "  <thead>\n",
       "    <tr style=\"text-align: right;\">\n",
       "      <th></th>\n",
       "      <th>children</th>\n",
       "      <th>days_employed</th>\n",
       "      <th>dob_years</th>\n",
       "      <th>education</th>\n",
       "      <th>education_id</th>\n",
       "      <th>family_status</th>\n",
       "      <th>family_status_id</th>\n",
       "      <th>gender</th>\n",
       "      <th>income_type</th>\n",
       "      <th>debt</th>\n",
       "      <th>total_income</th>\n",
       "      <th>purpose</th>\n",
       "      <th>total_income_range</th>\n",
       "    </tr>\n",
       "  </thead>\n",
       "  <tbody>\n",
       "  </tbody>\n",
       "</table>\n",
       "</div>"
      ],
      "text/plain": [
       "Empty DataFrame\n",
       "Columns: [children, days_employed, dob_years, education, education_id, family_status, family_status_id, gender, income_type, debt, total_income, purpose, total_income_range]\n",
       "Index: []"
      ]
     },
     "execution_count": 41,
     "metadata": {},
     "output_type": "execute_result"
    }
   ],
   "source": [
    "df[(df['family_status']=='unmarried')&(df['purpose']=='education')&(df['total_income_range']=='range +300000')]"
   ]
  },
  {
   "cell_type": "markdown",
   "id": "56ccd1d2",
   "metadata": {},
   "source": [
    "# **6. PREGUNTAS** <a id='questions'></a>\n",
    "- **Existe conexión entre tener hijos y reembolsar un préstamo a tiempo?** Definitivamente si tienden a realizar mas prestamos cuando tienen pocos hijos, pero no hay una relacion entre tener hijos y reembolso a tiempo\n",
    "  \n",
    "- **Existe conexión entre el estado civil y el reembolso de un préstamo a tiempo?** Los aspirantes 'unmarried' son los mas tienden cumplir con el reembolso a tiempo, luego los 'civil partnership' y despues los 'married'. Estos tres grupos son los mas atractivos, ademas los 'married' son los que mas prestamos suelen realizar.\n",
    "\n",
    "- **Existe conexión entre el nivel de ingresos y el reembolso de un préstamo a tiempo?** Entre mas bajo sea el nivel de ingreso, mas tienden a hacer prestamos pero tambien mas tienden a incumplirlos\n",
    "\n",
    "- **Cómo afectan los diferentes propósitos de un préstamo a su reembolso a tiempo?** 'real estate' es el proposito por el cual mas tiende a realizarse un prestamo y tambien quienes mas tienden a incumplir con el pago del prestamo. Los que mas tienden a cumplir son los prestamos para 'car' y 'education'. El grupo mas atractivo son los 'education' ya que tienen una alta tasa de cumplimiento y son el segundo grupo mas grande"
   ]
  },
  {
   "cell_type": "markdown",
   "id": "2ea38686",
   "metadata": {},
   "source": [
    "# **7. RESUMEN**<a id='resumen'></a>"
   ]
  },
  {
   "cell_type": "markdown",
   "id": "32376fc8",
   "metadata": {},
   "source": [
    "En el [Pre-Procesamiento Datos](#Pre-Data_proceesing) se encontro lo siguiente:\n",
    "\n",
    "* Los datos tienen 54 filas duplicadas, pero todas estas filas tienen valores ausentes en 'days_employed' y 'total_income'.\n",
    "\n",
    "* Con el metodo info() se observa en las columnas 'total_income' y 'days_employed' *valores ausentes*; ademas se encontro 'days_employed' tienen valores negativos\n",
    "    \n",
    "* La columna 'gender' tiene un valor 'XNA' "
   ]
  },
  {
   "cell_type": "markdown",
   "id": "41bb7cc1",
   "metadata": {},
   "source": [
    "# **8. CONCLUSION**<a id='end'></a>"
   ]
  },
  {
   "cell_type": "markdown",
   "id": "2df83bb5",
   "metadata": {},
   "source": [
    "* Los de 'days_employed' a falta de mayor informacion convertir los valores negativos, en positivos.\n",
    "\n",
    "* Los *valores ausentes* en 'total_income' se analizo si debian eliminarlos o rellenarlos. Se encontro en [Nivel de Ingreso vs Reembolso de Prestamos a Tiempo](#income_vs_debt) que si se podian eliminar ya que no afectaba la tendencia de los resultados.\n",
    "    * Las 54 filas duplicadas al estar dentro de las que tenian valores ausentes eliminadas, tambien fueron eliminadas.\n",
    "    \n",
    "* El valor 'XNA' en 'gender' como no piden analizar esta columna no se modifico esta parte.\n",
    "\n",
    "En [Preguntas](#questions) se contestan las inquitudes planteadas en [Objetivo](#obj). En base a estas respuestas se concluye:\n",
    "\n",
    "Al intentar crear el perfil del candidato ideal se encontro que estadisticamente no existe un candidato que cumpla con todos estas características, por este motivo los bancos dan puntuaciones de los candidatos que cumplan con caracteristicas deseable para aplicante al prestamo"
   ]
  },
  {
   "cell_type": "markdown",
   "id": "c3ef9061",
   "metadata": {},
   "source": [
    "[Volver a Contenidos](#back)"
   ]
  }
 ],
 "metadata": {
  "kernelspec": {
   "display_name": "Python 3 (ipykernel)",
   "language": "python",
   "name": "python3"
  },
  "language_info": {
   "codemirror_mode": {
    "name": "ipython",
    "version": 3
   },
   "file_extension": ".py",
   "mimetype": "text/x-python",
   "name": "python",
   "nbconvert_exporter": "python",
   "pygments_lexer": "ipython3",
   "version": "3.10.9"
  }
 },
 "nbformat": 4,
 "nbformat_minor": 5
}
